{
 "cells": [
  {
   "cell_type": "markdown",
   "metadata": {},
   "source": [
    "## NHL Defense Stats\n",
    "### This notebook runs a single function to fetch team defense stats, using a different NHL API link"
   ]
  },
  {
   "cell_type": "code",
   "execution_count": 103,
   "metadata": {},
   "outputs": [],
   "source": [
    "import pandas as pd\n",
    "import numpy as np "
   ]
  },
  {
   "cell_type": "code",
   "execution_count": 35,
   "metadata": {},
   "outputs": [],
   "source": [
    "def get_regseason_defense_stats(list_of_seasons):\n",
    "    \"\"\"\n",
    "    get_regseason_defense_stats(list_of_seasons):\n",
    "    Get defensive stats from NHL using a different\n",
    "    API link.\n",
    "    Params:\n",
    "        list_of_seasons: seasons to query from API\n",
    "    Returns:\n",
    "        team_defense_stats: list of dicts of team defensive stats\n",
    "    \"\"\"\n",
    "    team_defense_stats = []\n",
    "    \n",
    "    # iterate through the list of seasons\n",
    "    for seasonID in list_of_seasons:\n",
    "        season_url = f\"https://api.nhle.com/stats/rest/team?isAggregate=false&reportType=basic&isGame=false&reportName=realtime&sort=[{{%22property%22:%22hits%22,%22direction%22:%22DESC%22}}]&cayenneExp=leagueId=133%20and%20gameTypeId=2%20and%20seasonId%3E={seasonID}%20and%20seasonId%3C={seasonID}\"\n",
    "        response = requests.get(season_url)\n",
    "        data = response.json()['data']\n",
    "        \n",
    "        # get nested team data\n",
    "        for team_defense in data:\n",
    "            team_defense_stats.append(team_defense)\n",
    "            \n",
    "    return team_defense_stats"
   ]
  },
  {
   "cell_type": "code",
   "execution_count": 42,
   "metadata": {},
   "outputs": [],
   "source": [
    "# populate our season IDs \n",
    "season_ids = [\n",
    "'19992000',\n",
    " '20002001',\n",
    " '20012002',\n",
    " '20022003',\n",
    " '20032004',\n",
    " '20052006',\n",
    " '20062007',\n",
    " '20072008',\n",
    " '20082009',\n",
    " '20092010',\n",
    " '20102011',\n",
    " '20112012',\n",
    " '20122013',\n",
    " '20132014',\n",
    " '20142015',\n",
    " '20152016',\n",
    " '20162017',\n",
    " '20172018',\n",
    " '20182019']"
   ]
  },
  {
   "cell_type": "code",
   "execution_count": null,
   "metadata": {},
   "outputs": [],
   "source": [
    "# run function to fetch all the data!"
   ]
  }
 ],
 "metadata": {
  "kernelspec": {
   "display_name": "Python [conda env:learn-env] *",
   "language": "python",
   "name": "conda-env-learn-env-py"
  },
  "language_info": {
   "codemirror_mode": {
    "name": "ipython",
    "version": 3
   },
   "file_extension": ".py",
   "mimetype": "text/x-python",
   "name": "python",
   "nbconvert_exporter": "python",
   "pygments_lexer": "ipython3",
   "version": "3.6.6"
  }
 },
 "nbformat": 4,
 "nbformat_minor": 2
}
