{
 "cells": [
  {
   "cell_type": "markdown",
   "metadata": {},
   "source": [
    "## NHL Stats\n",
    "### This notebook uses the NHL API to gather regular-season statistics going back to 1999 for every team."
   ]
  },
  {
   "cell_type": "code",
   "execution_count": null,
   "metadata": {},
   "outputs": [],
   "source": [
    "import requests\n",
    "import json\n",
    "import pandas as pd\n",
    "pd.set_option('display.max_columns',100)"
   ]
  },
  {
   "cell_type": "code",
   "execution_count": null,
   "metadata": {},
   "outputs": [],
   "source": [
    "#getting teamIDs\n",
    "url = 'https://statsapi.web.nhl.com/api/v1/teams'\n",
    "response = requests.get(url)\n",
    "data= response.json()"
   ]
  },
  {
   "cell_type": "code",
   "execution_count": null,
   "metadata": {},
   "outputs": [],
   "source": [
    "list_of_teamIDs = []\n",
    "for i in data['teams']:\n",
    "    list_of_teamIDs.append(i['id'])"
   ]
  },
  {
   "cell_type": "code",
   "execution_count": null,
   "metadata": {},
   "outputs": [],
   "source": [
    "# create list of years for the seasons\n",
    "# we want to pull data for\n",
    "list_of_seasonIDs = [str(x) for x in range(1999,2020)]"
   ]
  },
  {
   "cell_type": "code",
   "execution_count": null,
   "metadata": {},
   "outputs": [],
   "source": [
    "# now create the NHL \"season IDs\" by concatenating\n",
    "# Fall and Spring years (e.g., 20182019)\n",
    "seasonIDs = []  \n",
    "i = 0\n",
    "while i < 20:\n",
    "    seasonIDs.append(list_of_seasonIDs[i]+list_of_seasonIDs[i+1])\n",
    "    i += 1"
   ]
  },
  {
   "cell_type": "code",
   "execution_count": null,
   "metadata": {},
   "outputs": [],
   "source": [
    "# get rid of the 2004/2005 season,\n",
    "# during which teamas did not play due to a\n",
    "# lockout\n",
    "seasonIDs.pop(5)"
   ]
  },
  {
   "cell_type": "code",
   "execution_count": null,
   "metadata": {},
   "outputs": [],
   "source": [
    "def get_regseason_stats(team_list,season_list):\n",
    "    \"\"\"\n",
    "    get_regseason_stats(team_list,season_list):\n",
    "    Function returns regular season statistics for a given team\n",
    "    and season.\n",
    "    Params:\n",
    "        team_list: list of team IDs\n",
    "        season_list: list of season IDs\n",
    "    Returns:\n",
    "        List of dictionaries of team stats\n",
    "    \"\"\"\n",
    "    team_stats = []\n",
    "    for team in team_list:\n",
    "        for season in season_list:\n",
    "            url = f'https://statsapi.web.nhl.com/api/v1/teams/{team}?expand=team.stats&season={season}'\n",
    "            # print URL for audit/monitoring purposes\n",
    "            print(url)\n",
    "            \n",
    "            response = requests.get(url)\n",
    "            data = response.json()\n",
    "            # ensure there is team data to fetch\n",
    "            # (struture is very nested)\n",
    "            if 'teams' in data.keys():\n",
    "                team_dict = data['teams'][0]['teamStats'][0]['splits'][0]['stat']\n",
    "                team_dict['teamID'] = team\n",
    "                team_dict['seasonID'] = season\n",
    "                team_stats.append(team_dict)\n",
    "                \n",
    "    return team_stats"
   ]
  },
  {
   "cell_type": "code",
   "execution_count": null,
   "metadata": {
    "scrolled": true
   },
   "outputs": [],
   "source": [
    "all_regular_seasonstats = get_regseason_stats(list_of_teamIDs,seasonIDs)"
   ]
  },
  {
   "cell_type": "code",
   "execution_count": null,
   "metadata": {},
   "outputs": [],
   "source": [
    "# persist our data to disk!\n",
    "import json\n",
    "with open('all_regular_seasonstats.json','w') as team_stats_file:\n",
    "    json.dump(all_regular_seasonstats, team_stats_file)"
   ]
  },
  {
   "cell_type": "code",
   "execution_count": null,
   "metadata": {},
   "outputs": [],
   "source": [
    "# create a dataframe\n",
    "df = pd.DataFrame(all_regular_seasonstats)"
   ]
  },
  {
   "cell_type": "code",
   "execution_count": null,
   "metadata": {},
   "outputs": [],
   "source": [
    "df.head()"
   ]
  },
  {
   "cell_type": "code",
   "execution_count": null,
   "metadata": {},
   "outputs": [],
   "source": [
    "# convert team ID to a string to be joined with\n",
    "# season ID as a unique ID\n",
    "df['teamID'] = df['teamID'].astype(str)"
   ]
  },
  {
   "cell_type": "code",
   "execution_count": null,
   "metadata": {},
   "outputs": [],
   "source": [
    "df.info()"
   ]
  },
  {
   "cell_type": "code",
   "execution_count": null,
   "metadata": {},
   "outputs": [],
   "source": [
    "# create our unique team/season ID\n",
    "df['teamID_seasonID'] = df['teamID'].str.cat(df['seasonID'], sep = \"_\")\n"
   ]
  },
  {
   "cell_type": "code",
   "execution_count": null,
   "metadata": {},
   "outputs": [],
   "source": [
    "# now replace the DF index with our unique team/season ID\n",
    "df.set_index('teamID_seasonID',inplace=True)"
   ]
  },
  {
   "cell_type": "code",
   "execution_count": null,
   "metadata": {},
   "outputs": [],
   "source": [
    "df.head()"
   ]
  },
  {
   "cell_type": "code",
   "execution_count": null,
   "metadata": {},
   "outputs": [],
   "source": [
    "# now that we have our unique IDs, we can drop\n",
    "# their constituent columns\n",
    "df.drop(['teamID','seasonID'],axis=1,inplace=True)"
   ]
  },
  {
   "cell_type": "code",
   "execution_count": null,
   "metadata": {},
   "outputs": [],
   "source": [
    "df.head()"
   ]
  },
  {
   "cell_type": "code",
   "execution_count": null,
   "metadata": {},
   "outputs": [],
   "source": [
    "# persist data to disk!\n",
    "df.to_csv('NHL_regularstats.csv')"
   ]
  },
  {
   "cell_type": "code",
   "execution_count": null,
   "metadata": {},
   "outputs": [],
   "source": [
    "# defense stats were gathered from another notebook\n",
    "# and saved to a CSV file for use here.\n",
    "df2 = pd.read_csv('NHL_defense_stats.csv')"
   ]
  },
  {
   "cell_type": "code",
   "execution_count": null,
   "metadata": {},
   "outputs": [],
   "source": [
    "# Merge defense stats with our main dataframe\n",
    "# using our unique team/season ID\n",
    "df_NHL = pd.merge(df,df2,on='teamID_seasonID')"
   ]
  },
  {
   "cell_type": "code",
   "execution_count": null,
   "metadata": {},
   "outputs": [],
   "source": [
    "# persist our new DF to disk\n",
    "df_NHL.to_csv('Final_NHL_stats.csv')"
   ]
  }
 ],
 "metadata": {
  "kernelspec": {
   "display_name": "Python 3",
   "language": "python",
   "name": "python3"
  },
  "language_info": {
   "codemirror_mode": {
    "name": "ipython",
    "version": 3
   },
   "file_extension": ".py",
   "mimetype": "text/x-python",
   "name": "python",
   "nbconvert_exporter": "python",
   "pygments_lexer": "ipython3",
   "version": "3.7.3"
  }
 },
 "nbformat": 4,
 "nbformat_minor": 2
}
